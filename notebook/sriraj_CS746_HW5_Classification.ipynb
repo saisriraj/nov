{
 "cells": [
  {
   "cell_type": "markdown",
   "id": "a48b00fe",
   "metadata": {},
   "source": [
    "## INSTRUCTIONS \n",
    "\n",
    "Every learner should submit his/her own homework solutions. However, you are allowed to discuss the homework with each other– but everyone must submit his/her own solution; you may not copy someone else’s solution. \n",
    "\n",
    "The homework consists of two parts:\n",
    "1.\tData from our life\n",
    "2.\tClassification\n",
    "\n",
    "Follow the prompts in the attached jupyter notebook. We are using the same data as for the previous homeworks. Use the version you created called df2 where you already cleaned, dropped some of the variables but did not create dummy variables. Instead of creating dummy variables, you have to recode this column as suggested bellow.\n",
    "Add markdown cells to your analysis to include your solutions, comments, answers. Add as many cells as you need, for easy readability comment when possible. \n",
    "\n",
    "**Note:** This homework has a bonus question, so the highest mark that can be earned is a 105.\n",
    "Submission: Send in both a ipynb and a pdf file of your work.\n",
    "Good luck!\n",
    "\n"
   ]
  },
  {
   "cell_type": "markdown",
   "id": "51fb31fa",
   "metadata": {},
   "source": [
    "# 1. Data from our lives:"
   ]
  },
  {
   "cell_type": "markdown",
   "id": "4bcc0963",
   "metadata": {},
   "source": [
    "### Describe a situation or problem from your job, everyday life, current events, etc., for which a classification would be appropriate."
   ]
  },
  {
   "cell_type": "raw",
   "id": "dd94166e",
   "metadata": {},
   "source": [
    "## Your answer\n",
    "##  i just wanted to go outside to play cricket in play ground so i have to decide whether the conditions of the enviromnet regarding climate is good or bad , i will also consider my energy , mood and friends availibility at that time, and also the selected time has to be in early morning , so if all the condions are favourable i may wish to go to the play ground to play cricket and if my factors are quite unfavorable then i may not go to ground to play cricket "
   ]
  },
  {
   "cell_type": "markdown",
   "id": "b5a7df56",
   "metadata": {},
   "source": [
    "# 2. Preprocessing"
   ]
  },
  {
   "cell_type": "markdown",
   "id": "5cf4e2d8",
   "metadata": {},
   "source": [
    "In our class we covered multiple classification methods. In this part of the home work you can compare them \n",
    "\n",
    "**Use the dataset 'auto_imports1.csv' from our previous homeworks. More specifically, use the version you created called df2 where you already cleaned, dropped some of the variables but DID NOT CREATE dummy variables. Follow the prompts to complete the homework.**"
   ]
  },
  {
   "cell_type": "code",
   "execution_count": 1,
   "id": "22e2376e",
   "metadata": {},
   "outputs": [],
   "source": [
    "from scipy import stats\n",
    "from sklearn.linear_model import LinearRegression\n",
    "from statsmodels.compat import lzip\n",
    "from statsmodels.formula.api import ols\n",
    "from statsmodels.stats.anova import anova_lm\n",
    "from statsmodels.stats.outliers_influence import variance_inflation_factor\n",
    "from sklearn.metrics import roc_curve, roc_auc_score\n",
    "import matplotlib\n",
    "import matplotlib.pyplot as plt\n",
    "import numpy as np\n",
    "import pandas as pd\n",
    "import seaborn as sns\n",
    "import statsmodels.api as sm\n",
    "%matplotlib inline\n",
    "\n",
    "#Read in data\n",
    "df =pd.read_csv('auto_imports1.csv')"
   ]
  },
  {
   "cell_type": "code",
   "execution_count": null,
   "id": "7eedbd10",
   "metadata": {},
   "outputs": [],
   "source": [
    "df.head()\n",
    "# to replace  \"?\"  with  Null values  inside the bore column\n",
    "\n",
    "df['bore'].replace(\"?\",np.nan,inplace=True)\n",
    "# to replace  \"?\"  with  Null values  inside the stroke column\n",
    "\n",
    "df['stroke'].replace(\"?\",np.nan,inplace=True)\n",
    "# to replace  \"?\"  with  Null values  inside the horse_power \n",
    "\n",
    "df['horse_power'].replace(\"?\",np.nan,inplace=True)\n",
    "# to replace  \"?\"  with  Null values  inside the peak_rpm\n",
    "\n",
    "df['peak_rpm'].replace(\"?\",np.nan,inplace=True)\n",
    "\n",
    "## Your code here\n",
    "\n",
    "df2 = df.drop(['body' ,'engine_type' ,'cylinders'],axis=1)  # axis = 1 represent the columns , we select columns\n",
    "df2.dropna(inplace =True )\n",
    "\n",
    "## .dropna() is a function to drop all the rows that containing atliest one null values present in it"
   ]
  },
  {
   "cell_type": "code",
   "execution_count": 2,
   "id": "c6ef3c43",
   "metadata": {},
   "outputs": [
    {
     "data": {
      "text/html": [
       "<div>\n",
       "<style scoped>\n",
       "    .dataframe tbody tr th:only-of-type {\n",
       "        vertical-align: middle;\n",
       "    }\n",
       "\n",
       "    .dataframe tbody tr th {\n",
       "        vertical-align: top;\n",
       "    }\n",
       "\n",
       "    .dataframe thead th {\n",
       "        text-align: right;\n",
       "    }\n",
       "</style>\n",
       "<table border=\"1\" class=\"dataframe\">\n",
       "  <thead>\n",
       "    <tr style=\"text-align: right;\">\n",
       "      <th></th>\n",
       "      <th>fuel_type</th>\n",
       "      <th>body</th>\n",
       "      <th>wheel_base</th>\n",
       "      <th>length</th>\n",
       "      <th>width</th>\n",
       "      <th>heights</th>\n",
       "      <th>curb_weight</th>\n",
       "      <th>engine_type</th>\n",
       "      <th>cylinders</th>\n",
       "      <th>engine_size</th>\n",
       "      <th>bore</th>\n",
       "      <th>stroke</th>\n",
       "      <th>comprassion</th>\n",
       "      <th>horse_power</th>\n",
       "      <th>peak_rpm</th>\n",
       "      <th>city_mpg</th>\n",
       "      <th>highway_mpg</th>\n",
       "      <th>price</th>\n",
       "    </tr>\n",
       "  </thead>\n",
       "  <tbody>\n",
       "    <tr>\n",
       "      <th>0</th>\n",
       "      <td>gas</td>\n",
       "      <td>convertible</td>\n",
       "      <td>88.6</td>\n",
       "      <td>168.8</td>\n",
       "      <td>64.1</td>\n",
       "      <td>48.8</td>\n",
       "      <td>2548</td>\n",
       "      <td>dohc</td>\n",
       "      <td>four</td>\n",
       "      <td>130</td>\n",
       "      <td>3.47</td>\n",
       "      <td>2.68</td>\n",
       "      <td>9.0</td>\n",
       "      <td>111</td>\n",
       "      <td>5000</td>\n",
       "      <td>21</td>\n",
       "      <td>27</td>\n",
       "      <td>13495</td>\n",
       "    </tr>\n",
       "    <tr>\n",
       "      <th>1</th>\n",
       "      <td>gas</td>\n",
       "      <td>convertible</td>\n",
       "      <td>88.6</td>\n",
       "      <td>168.8</td>\n",
       "      <td>64.1</td>\n",
       "      <td>48.8</td>\n",
       "      <td>2548</td>\n",
       "      <td>dohc</td>\n",
       "      <td>four</td>\n",
       "      <td>130</td>\n",
       "      <td>3.47</td>\n",
       "      <td>2.68</td>\n",
       "      <td>9.0</td>\n",
       "      <td>111</td>\n",
       "      <td>5000</td>\n",
       "      <td>21</td>\n",
       "      <td>27</td>\n",
       "      <td>16500</td>\n",
       "    </tr>\n",
       "    <tr>\n",
       "      <th>2</th>\n",
       "      <td>gas</td>\n",
       "      <td>hatchback</td>\n",
       "      <td>94.5</td>\n",
       "      <td>171.2</td>\n",
       "      <td>65.5</td>\n",
       "      <td>52.4</td>\n",
       "      <td>2823</td>\n",
       "      <td>ohcv</td>\n",
       "      <td>six</td>\n",
       "      <td>152</td>\n",
       "      <td>2.68</td>\n",
       "      <td>3.47</td>\n",
       "      <td>9.0</td>\n",
       "      <td>154</td>\n",
       "      <td>5000</td>\n",
       "      <td>19</td>\n",
       "      <td>26</td>\n",
       "      <td>16500</td>\n",
       "    </tr>\n",
       "    <tr>\n",
       "      <th>3</th>\n",
       "      <td>gas</td>\n",
       "      <td>sedan</td>\n",
       "      <td>99.8</td>\n",
       "      <td>176.6</td>\n",
       "      <td>66.2</td>\n",
       "      <td>54.3</td>\n",
       "      <td>2337</td>\n",
       "      <td>ohc</td>\n",
       "      <td>four</td>\n",
       "      <td>109</td>\n",
       "      <td>3.19</td>\n",
       "      <td>3.4</td>\n",
       "      <td>10.0</td>\n",
       "      <td>102</td>\n",
       "      <td>5500</td>\n",
       "      <td>24</td>\n",
       "      <td>30</td>\n",
       "      <td>13950</td>\n",
       "    </tr>\n",
       "    <tr>\n",
       "      <th>4</th>\n",
       "      <td>gas</td>\n",
       "      <td>sedan</td>\n",
       "      <td>99.4</td>\n",
       "      <td>176.6</td>\n",
       "      <td>66.4</td>\n",
       "      <td>54.3</td>\n",
       "      <td>2824</td>\n",
       "      <td>ohc</td>\n",
       "      <td>five</td>\n",
       "      <td>136</td>\n",
       "      <td>3.19</td>\n",
       "      <td>3.4</td>\n",
       "      <td>8.0</td>\n",
       "      <td>115</td>\n",
       "      <td>5500</td>\n",
       "      <td>18</td>\n",
       "      <td>22</td>\n",
       "      <td>17450</td>\n",
       "    </tr>\n",
       "  </tbody>\n",
       "</table>\n",
       "</div>"
      ],
      "text/plain": [
       "  fuel_type         body  wheel_base  length  width  heights  curb_weight  \\\n",
       "0       gas  convertible        88.6   168.8   64.1     48.8         2548   \n",
       "1       gas  convertible        88.6   168.8   64.1     48.8         2548   \n",
       "2       gas    hatchback        94.5   171.2   65.5     52.4         2823   \n",
       "3       gas        sedan        99.8   176.6   66.2     54.3         2337   \n",
       "4       gas        sedan        99.4   176.6   66.4     54.3         2824   \n",
       "\n",
       "  engine_type cylinders  engine_size  bore stroke  comprassion horse_power  \\\n",
       "0        dohc      four          130  3.47   2.68          9.0         111   \n",
       "1        dohc      four          130  3.47   2.68          9.0         111   \n",
       "2        ohcv       six          152  2.68   3.47          9.0         154   \n",
       "3         ohc      four          109  3.19    3.4         10.0         102   \n",
       "4         ohc      five          136  3.19    3.4          8.0         115   \n",
       "\n",
       "  peak_rpm  city_mpg  highway_mpg  price  \n",
       "0     5000        21           27  13495  \n",
       "1     5000        21           27  16500  \n",
       "2     5000        19           26  16500  \n",
       "3     5500        24           30  13950  \n",
       "4     5500        18           22  17450  "
      ]
     },
     "execution_count": 2,
     "metadata": {},
     "output_type": "execute_result"
    }
   ],
   "source": [
    "df.head()"
   ]
  },
  {
   "cell_type": "code",
   "execution_count": null,
   "id": "a59204e1",
   "metadata": {},
   "outputs": [],
   "source": []
  },
  {
   "cell_type": "code",
   "execution_count": 3,
   "id": "bb58a4f0",
   "metadata": {},
   "outputs": [],
   "source": [
    "# to replace  \"?\"  with  Null values  inside the bore column\n",
    "\n",
    "df['bore'].replace(\"?\",np.nan,inplace=True)"
   ]
  },
  {
   "cell_type": "code",
   "execution_count": 4,
   "id": "4a63454e",
   "metadata": {},
   "outputs": [],
   "source": [
    "# to replace  \"?\"  with  Null values  inside the stroke column\n",
    "\n",
    "df['stroke'].replace(\"?\",np.nan,inplace=True)"
   ]
  },
  {
   "cell_type": "code",
   "execution_count": 5,
   "id": "ea2e1277",
   "metadata": {},
   "outputs": [],
   "source": [
    "# to replace  \"?\"  with  Null values  inside the horse_power \n",
    "\n",
    "df['horse_power'].replace(\"?\",np.nan,inplace=True)"
   ]
  },
  {
   "cell_type": "code",
   "execution_count": 6,
   "id": "beb14bee",
   "metadata": {},
   "outputs": [],
   "source": [
    "# to replace  \"?\"  with  Null values  inside the peak_rpm\n",
    "\n",
    "df['peak_rpm'].replace(\"?\",np.nan,inplace=True)"
   ]
  },
  {
   "cell_type": "code",
   "execution_count": 7,
   "id": "42d34819",
   "metadata": {},
   "outputs": [],
   "source": [
    "\n",
    "## Your code here\n",
    "\n",
    "df2 = df.drop(['body' ,'engine_type' ,'cylinders'],axis=1)  # axis = 1 represent the columns , we select columns\n"
   ]
  },
  {
   "cell_type": "code",
   "execution_count": 8,
   "id": "46f8be8a",
   "metadata": {},
   "outputs": [],
   "source": [
    "df2.dropna(inplace =True )\n",
    "\n",
    "## .dropna() is a function to drop all the rows that containing atliest one null values present in it\n"
   ]
  },
  {
   "cell_type": "code",
   "execution_count": 9,
   "id": "32d7d28f",
   "metadata": {},
   "outputs": [
    {
     "data": {
      "text/html": [
       "<div>\n",
       "<style scoped>\n",
       "    .dataframe tbody tr th:only-of-type {\n",
       "        vertical-align: middle;\n",
       "    }\n",
       "\n",
       "    .dataframe tbody tr th {\n",
       "        vertical-align: top;\n",
       "    }\n",
       "\n",
       "    .dataframe thead th {\n",
       "        text-align: right;\n",
       "    }\n",
       "</style>\n",
       "<table border=\"1\" class=\"dataframe\">\n",
       "  <thead>\n",
       "    <tr style=\"text-align: right;\">\n",
       "      <th></th>\n",
       "      <th>fuel_type</th>\n",
       "      <th>wheel_base</th>\n",
       "      <th>length</th>\n",
       "      <th>width</th>\n",
       "      <th>heights</th>\n",
       "      <th>curb_weight</th>\n",
       "      <th>engine_size</th>\n",
       "      <th>bore</th>\n",
       "      <th>stroke</th>\n",
       "      <th>comprassion</th>\n",
       "      <th>horse_power</th>\n",
       "      <th>peak_rpm</th>\n",
       "      <th>city_mpg</th>\n",
       "      <th>highway_mpg</th>\n",
       "      <th>price</th>\n",
       "    </tr>\n",
       "  </thead>\n",
       "  <tbody>\n",
       "    <tr>\n",
       "      <th>0</th>\n",
       "      <td>gas</td>\n",
       "      <td>88.6</td>\n",
       "      <td>168.8</td>\n",
       "      <td>64.1</td>\n",
       "      <td>48.8</td>\n",
       "      <td>2548</td>\n",
       "      <td>130</td>\n",
       "      <td>3.47</td>\n",
       "      <td>2.68</td>\n",
       "      <td>9.0</td>\n",
       "      <td>111</td>\n",
       "      <td>5000</td>\n",
       "      <td>21</td>\n",
       "      <td>27</td>\n",
       "      <td>13495</td>\n",
       "    </tr>\n",
       "    <tr>\n",
       "      <th>1</th>\n",
       "      <td>gas</td>\n",
       "      <td>88.6</td>\n",
       "      <td>168.8</td>\n",
       "      <td>64.1</td>\n",
       "      <td>48.8</td>\n",
       "      <td>2548</td>\n",
       "      <td>130</td>\n",
       "      <td>3.47</td>\n",
       "      <td>2.68</td>\n",
       "      <td>9.0</td>\n",
       "      <td>111</td>\n",
       "      <td>5000</td>\n",
       "      <td>21</td>\n",
       "      <td>27</td>\n",
       "      <td>16500</td>\n",
       "    </tr>\n",
       "    <tr>\n",
       "      <th>2</th>\n",
       "      <td>gas</td>\n",
       "      <td>94.5</td>\n",
       "      <td>171.2</td>\n",
       "      <td>65.5</td>\n",
       "      <td>52.4</td>\n",
       "      <td>2823</td>\n",
       "      <td>152</td>\n",
       "      <td>2.68</td>\n",
       "      <td>3.47</td>\n",
       "      <td>9.0</td>\n",
       "      <td>154</td>\n",
       "      <td>5000</td>\n",
       "      <td>19</td>\n",
       "      <td>26</td>\n",
       "      <td>16500</td>\n",
       "    </tr>\n",
       "    <tr>\n",
       "      <th>3</th>\n",
       "      <td>gas</td>\n",
       "      <td>99.8</td>\n",
       "      <td>176.6</td>\n",
       "      <td>66.2</td>\n",
       "      <td>54.3</td>\n",
       "      <td>2337</td>\n",
       "      <td>109</td>\n",
       "      <td>3.19</td>\n",
       "      <td>3.4</td>\n",
       "      <td>10.0</td>\n",
       "      <td>102</td>\n",
       "      <td>5500</td>\n",
       "      <td>24</td>\n",
       "      <td>30</td>\n",
       "      <td>13950</td>\n",
       "    </tr>\n",
       "    <tr>\n",
       "      <th>4</th>\n",
       "      <td>gas</td>\n",
       "      <td>99.4</td>\n",
       "      <td>176.6</td>\n",
       "      <td>66.4</td>\n",
       "      <td>54.3</td>\n",
       "      <td>2824</td>\n",
       "      <td>136</td>\n",
       "      <td>3.19</td>\n",
       "      <td>3.4</td>\n",
       "      <td>8.0</td>\n",
       "      <td>115</td>\n",
       "      <td>5500</td>\n",
       "      <td>18</td>\n",
       "      <td>22</td>\n",
       "      <td>17450</td>\n",
       "    </tr>\n",
       "    <tr>\n",
       "      <th>...</th>\n",
       "      <td>...</td>\n",
       "      <td>...</td>\n",
       "      <td>...</td>\n",
       "      <td>...</td>\n",
       "      <td>...</td>\n",
       "      <td>...</td>\n",
       "      <td>...</td>\n",
       "      <td>...</td>\n",
       "      <td>...</td>\n",
       "      <td>...</td>\n",
       "      <td>...</td>\n",
       "      <td>...</td>\n",
       "      <td>...</td>\n",
       "      <td>...</td>\n",
       "      <td>...</td>\n",
       "    </tr>\n",
       "    <tr>\n",
       "      <th>196</th>\n",
       "      <td>gas</td>\n",
       "      <td>109.1</td>\n",
       "      <td>188.8</td>\n",
       "      <td>68.9</td>\n",
       "      <td>55.5</td>\n",
       "      <td>2952</td>\n",
       "      <td>141</td>\n",
       "      <td>3.78</td>\n",
       "      <td>3.15</td>\n",
       "      <td>9.5</td>\n",
       "      <td>114</td>\n",
       "      <td>5400</td>\n",
       "      <td>23</td>\n",
       "      <td>28</td>\n",
       "      <td>16845</td>\n",
       "    </tr>\n",
       "    <tr>\n",
       "      <th>197</th>\n",
       "      <td>gas</td>\n",
       "      <td>109.1</td>\n",
       "      <td>188.8</td>\n",
       "      <td>68.8</td>\n",
       "      <td>55.5</td>\n",
       "      <td>3049</td>\n",
       "      <td>141</td>\n",
       "      <td>3.78</td>\n",
       "      <td>3.15</td>\n",
       "      <td>8.7</td>\n",
       "      <td>160</td>\n",
       "      <td>5300</td>\n",
       "      <td>19</td>\n",
       "      <td>25</td>\n",
       "      <td>19045</td>\n",
       "    </tr>\n",
       "    <tr>\n",
       "      <th>198</th>\n",
       "      <td>gas</td>\n",
       "      <td>109.1</td>\n",
       "      <td>188.8</td>\n",
       "      <td>68.9</td>\n",
       "      <td>55.5</td>\n",
       "      <td>3012</td>\n",
       "      <td>173</td>\n",
       "      <td>3.58</td>\n",
       "      <td>2.87</td>\n",
       "      <td>8.8</td>\n",
       "      <td>134</td>\n",
       "      <td>5500</td>\n",
       "      <td>18</td>\n",
       "      <td>23</td>\n",
       "      <td>21485</td>\n",
       "    </tr>\n",
       "    <tr>\n",
       "      <th>199</th>\n",
       "      <td>diesel</td>\n",
       "      <td>109.1</td>\n",
       "      <td>188.8</td>\n",
       "      <td>68.9</td>\n",
       "      <td>55.5</td>\n",
       "      <td>3217</td>\n",
       "      <td>145</td>\n",
       "      <td>3.01</td>\n",
       "      <td>3.4</td>\n",
       "      <td>23.0</td>\n",
       "      <td>106</td>\n",
       "      <td>4800</td>\n",
       "      <td>26</td>\n",
       "      <td>27</td>\n",
       "      <td>22470</td>\n",
       "    </tr>\n",
       "    <tr>\n",
       "      <th>200</th>\n",
       "      <td>gas</td>\n",
       "      <td>109.1</td>\n",
       "      <td>188.8</td>\n",
       "      <td>68.9</td>\n",
       "      <td>55.5</td>\n",
       "      <td>3062</td>\n",
       "      <td>141</td>\n",
       "      <td>3.78</td>\n",
       "      <td>3.15</td>\n",
       "      <td>9.5</td>\n",
       "      <td>114</td>\n",
       "      <td>5400</td>\n",
       "      <td>19</td>\n",
       "      <td>25</td>\n",
       "      <td>22625</td>\n",
       "    </tr>\n",
       "  </tbody>\n",
       "</table>\n",
       "<p>195 rows × 15 columns</p>\n",
       "</div>"
      ],
      "text/plain": [
       "    fuel_type  wheel_base  length  width  heights  curb_weight  engine_size  \\\n",
       "0         gas        88.6   168.8   64.1     48.8         2548          130   \n",
       "1         gas        88.6   168.8   64.1     48.8         2548          130   \n",
       "2         gas        94.5   171.2   65.5     52.4         2823          152   \n",
       "3         gas        99.8   176.6   66.2     54.3         2337          109   \n",
       "4         gas        99.4   176.6   66.4     54.3         2824          136   \n",
       "..        ...         ...     ...    ...      ...          ...          ...   \n",
       "196       gas       109.1   188.8   68.9     55.5         2952          141   \n",
       "197       gas       109.1   188.8   68.8     55.5         3049          141   \n",
       "198       gas       109.1   188.8   68.9     55.5         3012          173   \n",
       "199    diesel       109.1   188.8   68.9     55.5         3217          145   \n",
       "200       gas       109.1   188.8   68.9     55.5         3062          141   \n",
       "\n",
       "     bore stroke  comprassion horse_power peak_rpm  city_mpg  highway_mpg  \\\n",
       "0    3.47   2.68          9.0         111     5000        21           27   \n",
       "1    3.47   2.68          9.0         111     5000        21           27   \n",
       "2    2.68   3.47          9.0         154     5000        19           26   \n",
       "3    3.19    3.4         10.0         102     5500        24           30   \n",
       "4    3.19    3.4          8.0         115     5500        18           22   \n",
       "..    ...    ...          ...         ...      ...       ...          ...   \n",
       "196  3.78   3.15          9.5         114     5400        23           28   \n",
       "197  3.78   3.15          8.7         160     5300        19           25   \n",
       "198  3.58   2.87          8.8         134     5500        18           23   \n",
       "199  3.01    3.4         23.0         106     4800        26           27   \n",
       "200  3.78   3.15          9.5         114     5400        19           25   \n",
       "\n",
       "     price  \n",
       "0    13495  \n",
       "1    16500  \n",
       "2    16500  \n",
       "3    13950  \n",
       "4    17450  \n",
       "..     ...  \n",
       "196  16845  \n",
       "197  19045  \n",
       "198  21485  \n",
       "199  22470  \n",
       "200  22625  \n",
       "\n",
       "[195 rows x 15 columns]"
      ]
     },
     "execution_count": 9,
     "metadata": {},
     "output_type": "execute_result"
    }
   ],
   "source": [
    "df2"
   ]
  },
  {
   "cell_type": "markdown",
   "id": "7356dab7",
   "metadata": {},
   "source": [
    "## 2.1 **Replace ['gas', 'diesel'] string values to [0, 1]**"
   ]
  },
  {
   "cell_type": "code",
   "execution_count": 10,
   "id": "127b23b0",
   "metadata": {},
   "outputs": [
    {
     "data": {
      "text/plain": [
       "0         gas\n",
       "1         gas\n",
       "2         gas\n",
       "3         gas\n",
       "4         gas\n",
       "        ...  \n",
       "196       gas\n",
       "197       gas\n",
       "198       gas\n",
       "199    diesel\n",
       "200       gas\n",
       "Name: fuel_type, Length: 195, dtype: object"
      ]
     },
     "execution_count": 10,
     "metadata": {},
     "output_type": "execute_result"
    }
   ],
   "source": [
    "#Your code\n",
    "df2['fuel_type']"
   ]
  },
  {
   "cell_type": "code",
   "execution_count": 11,
   "id": "1e57decb",
   "metadata": {},
   "outputs": [
    {
     "data": {
      "text/plain": [
       "array(['gas', 'diesel'], dtype=object)"
      ]
     },
     "execution_count": 11,
     "metadata": {},
     "output_type": "execute_result"
    }
   ],
   "source": [
    "df2['fuel_type'].unique()"
   ]
  },
  {
   "cell_type": "code",
   "execution_count": 12,
   "id": "74556e93",
   "metadata": {},
   "outputs": [],
   "source": [
    "fuel = {'gas':0, 'diesel':1}\n",
    "df2['fuel_type'] = df2['fuel_type'].map(fuel)"
   ]
  },
  {
   "cell_type": "code",
   "execution_count": 13,
   "id": "487a7c5a",
   "metadata": {},
   "outputs": [
    {
     "data": {
      "text/plain": [
       "0      0\n",
       "1      0\n",
       "2      0\n",
       "3      0\n",
       "4      0\n",
       "      ..\n",
       "196    0\n",
       "197    0\n",
       "198    0\n",
       "199    1\n",
       "200    0\n",
       "Name: fuel_type, Length: 195, dtype: int64"
      ]
     },
     "execution_count": 13,
     "metadata": {},
     "output_type": "execute_result"
    }
   ],
   "source": [
    "df2['fuel_type']"
   ]
  },
  {
   "cell_type": "markdown",
   "id": "c3851124",
   "metadata": {},
   "source": [
    "## 2.2 : Define your X and y: your dependent variable is fuel_type, the rest of the variables are your independent variables"
   ]
  },
  {
   "cell_type": "code",
   "execution_count": 14,
   "id": "f3735085",
   "metadata": {},
   "outputs": [],
   "source": [
    "#your code\n",
    "\n",
    "X = df2.drop(['fuel_type'],axis =1)\n",
    "\n",
    "y= df2['fuel_type']\n",
    "\n"
   ]
  },
  {
   "cell_type": "code",
   "execution_count": 15,
   "id": "eb2316c8",
   "metadata": {},
   "outputs": [
    {
     "data": {
      "text/html": [
       "<div>\n",
       "<style scoped>\n",
       "    .dataframe tbody tr th:only-of-type {\n",
       "        vertical-align: middle;\n",
       "    }\n",
       "\n",
       "    .dataframe tbody tr th {\n",
       "        vertical-align: top;\n",
       "    }\n",
       "\n",
       "    .dataframe thead th {\n",
       "        text-align: right;\n",
       "    }\n",
       "</style>\n",
       "<table border=\"1\" class=\"dataframe\">\n",
       "  <thead>\n",
       "    <tr style=\"text-align: right;\">\n",
       "      <th></th>\n",
       "      <th>wheel_base</th>\n",
       "      <th>length</th>\n",
       "      <th>width</th>\n",
       "      <th>heights</th>\n",
       "      <th>curb_weight</th>\n",
       "      <th>engine_size</th>\n",
       "      <th>bore</th>\n",
       "      <th>stroke</th>\n",
       "      <th>comprassion</th>\n",
       "      <th>horse_power</th>\n",
       "      <th>peak_rpm</th>\n",
       "      <th>city_mpg</th>\n",
       "      <th>highway_mpg</th>\n",
       "      <th>price</th>\n",
       "    </tr>\n",
       "  </thead>\n",
       "  <tbody>\n",
       "    <tr>\n",
       "      <th>0</th>\n",
       "      <td>88.6</td>\n",
       "      <td>168.8</td>\n",
       "      <td>64.1</td>\n",
       "      <td>48.8</td>\n",
       "      <td>2548</td>\n",
       "      <td>130</td>\n",
       "      <td>3.47</td>\n",
       "      <td>2.68</td>\n",
       "      <td>9.0</td>\n",
       "      <td>111</td>\n",
       "      <td>5000</td>\n",
       "      <td>21</td>\n",
       "      <td>27</td>\n",
       "      <td>13495</td>\n",
       "    </tr>\n",
       "    <tr>\n",
       "      <th>1</th>\n",
       "      <td>88.6</td>\n",
       "      <td>168.8</td>\n",
       "      <td>64.1</td>\n",
       "      <td>48.8</td>\n",
       "      <td>2548</td>\n",
       "      <td>130</td>\n",
       "      <td>3.47</td>\n",
       "      <td>2.68</td>\n",
       "      <td>9.0</td>\n",
       "      <td>111</td>\n",
       "      <td>5000</td>\n",
       "      <td>21</td>\n",
       "      <td>27</td>\n",
       "      <td>16500</td>\n",
       "    </tr>\n",
       "    <tr>\n",
       "      <th>2</th>\n",
       "      <td>94.5</td>\n",
       "      <td>171.2</td>\n",
       "      <td>65.5</td>\n",
       "      <td>52.4</td>\n",
       "      <td>2823</td>\n",
       "      <td>152</td>\n",
       "      <td>2.68</td>\n",
       "      <td>3.47</td>\n",
       "      <td>9.0</td>\n",
       "      <td>154</td>\n",
       "      <td>5000</td>\n",
       "      <td>19</td>\n",
       "      <td>26</td>\n",
       "      <td>16500</td>\n",
       "    </tr>\n",
       "    <tr>\n",
       "      <th>3</th>\n",
       "      <td>99.8</td>\n",
       "      <td>176.6</td>\n",
       "      <td>66.2</td>\n",
       "      <td>54.3</td>\n",
       "      <td>2337</td>\n",
       "      <td>109</td>\n",
       "      <td>3.19</td>\n",
       "      <td>3.4</td>\n",
       "      <td>10.0</td>\n",
       "      <td>102</td>\n",
       "      <td>5500</td>\n",
       "      <td>24</td>\n",
       "      <td>30</td>\n",
       "      <td>13950</td>\n",
       "    </tr>\n",
       "    <tr>\n",
       "      <th>4</th>\n",
       "      <td>99.4</td>\n",
       "      <td>176.6</td>\n",
       "      <td>66.4</td>\n",
       "      <td>54.3</td>\n",
       "      <td>2824</td>\n",
       "      <td>136</td>\n",
       "      <td>3.19</td>\n",
       "      <td>3.4</td>\n",
       "      <td>8.0</td>\n",
       "      <td>115</td>\n",
       "      <td>5500</td>\n",
       "      <td>18</td>\n",
       "      <td>22</td>\n",
       "      <td>17450</td>\n",
       "    </tr>\n",
       "  </tbody>\n",
       "</table>\n",
       "</div>"
      ],
      "text/plain": [
       "   wheel_base  length  width  heights  curb_weight  engine_size  bore stroke  \\\n",
       "0        88.6   168.8   64.1     48.8         2548          130  3.47   2.68   \n",
       "1        88.6   168.8   64.1     48.8         2548          130  3.47   2.68   \n",
       "2        94.5   171.2   65.5     52.4         2823          152  2.68   3.47   \n",
       "3        99.8   176.6   66.2     54.3         2337          109  3.19    3.4   \n",
       "4        99.4   176.6   66.4     54.3         2824          136  3.19    3.4   \n",
       "\n",
       "   comprassion horse_power peak_rpm  city_mpg  highway_mpg  price  \n",
       "0          9.0         111     5000        21           27  13495  \n",
       "1          9.0         111     5000        21           27  16500  \n",
       "2          9.0         154     5000        19           26  16500  \n",
       "3         10.0         102     5500        24           30  13950  \n",
       "4          8.0         115     5500        18           22  17450  "
      ]
     },
     "execution_count": 15,
     "metadata": {},
     "output_type": "execute_result"
    }
   ],
   "source": [
    "X.head()"
   ]
  },
  {
   "cell_type": "code",
   "execution_count": 16,
   "id": "d9defd26",
   "metadata": {},
   "outputs": [
    {
     "data": {
      "text/plain": [
       "0    0\n",
       "1    0\n",
       "2    0\n",
       "3    0\n",
       "4    0\n",
       "Name: fuel_type, dtype: int64"
      ]
     },
     "execution_count": 16,
     "metadata": {},
     "output_type": "execute_result"
    }
   ],
   "source": [
    "y.head()"
   ]
  },
  {
   "cell_type": "code",
   "execution_count": null,
   "id": "c3d05617",
   "metadata": {},
   "outputs": [],
   "source": []
  },
  {
   "cell_type": "markdown",
   "id": "cf86f4df",
   "metadata": {},
   "source": [
    "## 2.3 Split your data into training and testing set. Use test_size=0.3, random_state=746 !"
   ]
  },
  {
   "cell_type": "code",
   "execution_count": 17,
   "id": "2e6c1b4f",
   "metadata": {},
   "outputs": [],
   "source": [
    "#your code\n",
    "\n",
    "from sklearn.model_selection import train_test_split\n",
    "X_train,X_test,y_train,y_test = train_test_split(X,y,test_size=0.3,random_state=746)"
   ]
  },
  {
   "cell_type": "markdown",
   "id": "4ad2fd64",
   "metadata": {},
   "source": [
    "# 3. Classification"
   ]
  },
  {
   "cell_type": "markdown",
   "id": "35ea935a",
   "metadata": {},
   "source": [
    "### 3.1 Use Logistic regression to classify your data. Print/report your confusion matrix, classification report and AUC"
   ]
  },
  {
   "cell_type": "code",
   "execution_count": 18,
   "id": "ab66e66a",
   "metadata": {},
   "outputs": [
    {
     "name": "stderr",
     "output_type": "stream",
     "text": [
      "C:\\ProgramData\\anaconda3\\Lib\\site-packages\\sklearn\\linear_model\\_logistic.py:460: ConvergenceWarning: lbfgs failed to converge (status=1):\n",
      "STOP: TOTAL NO. of ITERATIONS REACHED LIMIT.\n",
      "\n",
      "Increase the number of iterations (max_iter) or scale the data as shown in:\n",
      "    https://scikit-learn.org/stable/modules/preprocessing.html\n",
      "Please also refer to the documentation for alternative solver options:\n",
      "    https://scikit-learn.org/stable/modules/linear_model.html#logistic-regression\n",
      "  n_iter_i = _check_optimize_result(\n"
     ]
    }
   ],
   "source": [
    "#your code\n",
    "from sklearn.metrics import classification_report, confusion_matrix,accuracy_score\n",
    "from sklearn.linear_model import LogisticRegression\n",
    "from sklearn.metrics import roc_curve, roc_auc_score\n",
    "\n",
    "\n",
    "logr = LogisticRegression()\n",
    "\n",
    "#fiting model\n",
    "logr.fit(X_train,y_train)\n",
    "\n",
    "\n",
    "\n",
    "#predicing\n",
    "pred_log = logr.predict(X_test)\n",
    "\n"
   ]
  },
  {
   "cell_type": "code",
   "execution_count": 19,
   "id": "199bd9ba",
   "metadata": {},
   "outputs": [
    {
     "data": {
      "text/plain": [
       "array([0, 0, 0, 0, 0, 0, 0, 0, 0, 0, 0, 1, 0, 0, 0, 0, 0, 0, 0, 0, 0, 0,\n",
       "       0, 1, 0, 0, 0, 0, 0, 1, 0, 0, 0, 1, 0, 0, 1, 0, 1, 0, 0, 0, 0, 0,\n",
       "       0, 0, 0, 0, 1, 0, 1, 1, 0, 0, 0, 0, 0, 0, 0], dtype=int64)"
      ]
     },
     "execution_count": 19,
     "metadata": {},
     "output_type": "execute_result"
    }
   ],
   "source": [
    "y_test.values"
   ]
  },
  {
   "cell_type": "code",
   "execution_count": null,
   "id": "f9d7575e",
   "metadata": {},
   "outputs": [],
   "source": []
  },
  {
   "cell_type": "markdown",
   "id": "037b1388",
   "metadata": {},
   "source": [
    "### confusion matrix "
   ]
  },
  {
   "cell_type": "code",
   "execution_count": 20,
   "id": "b4645e9f",
   "metadata": {},
   "outputs": [
    {
     "data": {
      "text/plain": [
       "Text(50.722222222222214, 0.5, 'actual')"
      ]
     },
     "execution_count": 20,
     "metadata": {},
     "output_type": "execute_result"
    },
    {
     "data": {
      "image/png": "[encoded data removed]",
      "text/plain": [
       "<Figure size 640x480 with 2 Axes>"
      ]
     },
     "metadata": {},
     "output_type": "display_data"
    }
   ],
   "source": [
    "# confusion matrix \n",
    "cm = confusion_matrix(y_test,pred_log)\n",
    "sns.heatmap(cm,annot=True)\n",
    "plt.title('predicted')\n",
    "plt.ylabel('actual')"
   ]
  },
  {
   "cell_type": "markdown",
   "id": "a157ecfb",
   "metadata": {},
   "source": [
    "### Classification Report"
   ]
  },
  {
   "cell_type": "code",
   "execution_count": 21,
   "id": "ec2da843",
   "metadata": {},
   "outputs": [
    {
     "name": "stdout",
     "output_type": "stream",
     "text": [
      "              precision    recall  f1-score   support\n",
      "\n",
      "           0       1.00      1.00      1.00        50\n",
      "           1       1.00      1.00      1.00         9\n",
      "\n",
      "    accuracy                           1.00        59\n",
      "   macro avg       1.00      1.00      1.00        59\n",
      "weighted avg       1.00      1.00      1.00        59\n",
      "\n"
     ]
    }
   ],
   "source": [
    "from sklearn.metrics import accuracy_score\n",
    "log_acc = accuracy_score(y_test,pred_log)\n",
    "print(classification_report(y_test,pred_log))"
   ]
  },
  {
   "cell_type": "code",
   "execution_count": 22,
   "id": "a37fa9c6",
   "metadata": {},
   "outputs": [
    {
     "name": "stdout",
     "output_type": "stream",
     "text": [
      "1.0\n"
     ]
    }
   ],
   "source": [
    "#accuracy score\n",
    "from sklearn.metrics import accuracy_score\n",
    "log_acc = accuracy_score(y_test,pred_log)\n",
    "print(log_acc)"
   ]
  },
  {
   "cell_type": "markdown",
   "id": "b890c261",
   "metadata": {},
   "source": [
    "### Auc score"
   ]
  },
  {
   "cell_type": "code",
   "execution_count": 23,
   "id": "22023b0b",
   "metadata": {},
   "outputs": [
    {
     "name": "stdout",
     "output_type": "stream",
     "text": [
      "the AUC score for Logistic regression is  1.0\n"
     ]
    }
   ],
   "source": [
    "log_reg_roc_score = roc_auc_score(y_test,pred_log)\n",
    "print(\"the AUC score for Logistic regression is \", log_reg_roc_score)\n",
    "fpr , tpr,thresold = roc_curve(y_test,pred_log)"
   ]
  },
  {
   "cell_type": "code",
   "execution_count": 24,
   "id": "51f61683",
   "metadata": {},
   "outputs": [
    {
     "data": {
      "text/plain": [
       "Text(0, 0.5, 'False Positive Rate')"
      ]
     },
     "execution_count": 24,
     "metadata": {},
     "output_type": "execute_result"
    },
    {
     "data": {
      "image/png": "[encoded data removed]",
      "text/plain": [
       "<Figure size 640x480 with 1 Axes>"
      ]
     },
     "metadata": {},
     "output_type": "display_data"
    }
   ],
   "source": [
    "plt.plot([0,1],[0,1],'k--')\n",
    "plt.plot(fpr,tpr)\n",
    "plt.xlabel('True Positive Rate')\n",
    "plt.ylabel('False Positive Rate')"
   ]
  },
  {
   "cell_type": "code",
   "execution_count": 25,
   "id": "a67dd0a4",
   "metadata": {},
   "outputs": [],
   "source": [
    "### plt"
   ]
  },
  {
   "cell_type": "markdown",
   "id": "2d3360f1",
   "metadata": {},
   "source": [
    "### 3.2 Use Naive Bayes to classify your data. Print/report your confusion matrix, classification report and AUC"
   ]
  },
  {
   "cell_type": "code",
   "execution_count": 26,
   "id": "131bcdbf",
   "metadata": {},
   "outputs": [],
   "source": [
    "#your code\n",
    "from sklearn.naive_bayes import GaussianNB\n",
    "\n",
    "\n",
    "\n",
    "nb= GaussianNB()\n",
    "\n",
    "#fiting model\n",
    "nb.fit(X_train,y_train)\n",
    "\n",
    "\n",
    "\n",
    "#predicing\n",
    "pred_nb = nb.predict(X_test)\n"
   ]
  },
  {
   "cell_type": "code",
   "execution_count": 27,
   "id": "da7e66af",
   "metadata": {},
   "outputs": [
    {
     "data": {
      "text/plain": [
       "Text(50.722222222222214, 0.5, 'actual')"
      ]
     },
     "execution_count": 27,
     "metadata": {},
     "output_type": "execute_result"
    },
    {
     "data": {
      "image/png": "[encoded data removed]",
      "text/plain": [
       "<Figure size 640x480 with 2 Axes>"
      ]
     },
     "metadata": {},
     "output_type": "display_data"
    }
   ],
   "source": [
    "# confusion matrix\n",
    "cm = confusion_matrix(y_test,pred_nb)\n",
    "sns.heatmap(cm,annot=True)\n",
    "plt.title('predicted')\n",
    "plt.ylabel('actual')"
   ]
  },
  {
   "cell_type": "code",
   "execution_count": 28,
   "id": "b75672ca",
   "metadata": {},
   "outputs": [
    {
     "name": "stdout",
     "output_type": "stream",
     "text": [
      "              precision    recall  f1-score   support\n",
      "\n",
      "           0       1.00      1.00      1.00        50\n",
      "           1       1.00      1.00      1.00         9\n",
      "\n",
      "    accuracy                           1.00        59\n",
      "   macro avg       1.00      1.00      1.00        59\n",
      "weighted avg       1.00      1.00      1.00        59\n",
      "\n"
     ]
    }
   ],
   "source": [
    "print(classification_report(y_test,pred_nb))"
   ]
  },
  {
   "cell_type": "code",
   "execution_count": 29,
   "id": "af4cc623",
   "metadata": {},
   "outputs": [
    {
     "name": "stdout",
     "output_type": "stream",
     "text": [
      "1.0\n"
     ]
    }
   ],
   "source": [
    "#accuracy score\n",
    "from sklearn.metrics import accuracy_score\n",
    "nb_acc = accuracy_score(y_test,pred_nb)\n",
    "print(nb_acc)"
   ]
  },
  {
   "cell_type": "markdown",
   "id": "45b619e6",
   "metadata": {},
   "source": [
    "### AUC score  for Navie Bayes"
   ]
  },
  {
   "cell_type": "code",
   "execution_count": 30,
   "id": "2a784ab1",
   "metadata": {},
   "outputs": [
    {
     "name": "stdout",
     "output_type": "stream",
     "text": [
      "the AUC score for  Navie Bayes is  1.0\n"
     ]
    }
   ],
   "source": [
    "nb_roc_score = roc_auc_score(y_test,pred_nb)\n",
    "print(\"the AUC score for  Navie Bayes is \", nb_roc_score)\n",
    "fpr , tpr, thresold = roc_curve(y_test,pred_nb)"
   ]
  },
  {
   "cell_type": "code",
   "execution_count": 31,
   "id": "62d32664",
   "metadata": {},
   "outputs": [
    {
     "data": {
      "text/plain": [
       "Text(0, 0.5, 'False Positive Rate')"
      ]
     },
     "execution_count": 31,
     "metadata": {},
     "output_type": "execute_result"
    },
    {
     "data": {
      "image/png": "[encoded data removed]",
      "text/plain": [
       "<Figure size 640x480 with 1 Axes>"
      ]
     },
     "metadata": {},
     "output_type": "display_data"
    }
   ],
   "source": [
    "plt.plot([0,1],[0,1],'k--')\n",
    "plt.plot(fpr,tpr)\n",
    "plt.xlabel('True Positive Rate')\n",
    "plt.ylabel('False Positive Rate')"
   ]
  },
  {
   "cell_type": "code",
   "execution_count": null,
   "id": "3f2e2205",
   "metadata": {},
   "outputs": [],
   "source": []
  },
  {
   "cell_type": "code",
   "execution_count": null,
   "id": "b0f6d5ac",
   "metadata": {},
   "outputs": [],
   "source": []
  },
  {
   "cell_type": "code",
   "execution_count": null,
   "id": "c7a9bb73",
   "metadata": {},
   "outputs": [],
   "source": []
  },
  {
   "cell_type": "markdown",
   "id": "c495f2d4",
   "metadata": {},
   "source": [
    "### 3.3 Use KNN to classify your data. First find the optimal k and than run you classification. Print/report your confusion matrix, classification report and AUC"
   ]
  },
  {
   "cell_type": "code",
   "execution_count": 32,
   "id": "afd53354",
   "metadata": {},
   "outputs": [],
   "source": [
    "#your code\n",
    "\n",
    "from sklearn.neighbors import KNeighborsClassifier\n",
    "\n",
    "knn = KNeighborsClassifier()\n",
    "\n",
    "#fiting model\n",
    "knn.fit(X_train,y_train)\n",
    "\n",
    "\n",
    "\n",
    "#predicing\n",
    "pred_knn = knn.predict(X_test)\n"
   ]
  },
  {
   "cell_type": "code",
   "execution_count": 33,
   "id": "21ecbce5",
   "metadata": {},
   "outputs": [
    {
     "data": {
      "text/plain": [
       "Text(50.722222222222214, 0.5, 'actual')"
      ]
     },
     "execution_count": 33,
     "metadata": {},
     "output_type": "execute_result"
    },
    {
     "data": {
      "image/png": "[encoded data removed]",
      "text/plain": [
       "<Figure size 640x480 with 2 Axes>"
      ]
     },
     "metadata": {},
     "output_type": "display_data"
    }
   ],
   "source": [
    "# confusion matrix\n",
    "cm = confusion_matrix(y_test,pred_knn)\n",
    "sns.heatmap(cm,annot=True)\n",
    "plt.title('predicted')\n",
    "plt.ylabel('actual')"
   ]
  },
  {
   "cell_type": "code",
   "execution_count": 34,
   "id": "11a45685",
   "metadata": {},
   "outputs": [
    {
     "name": "stdout",
     "output_type": "stream",
     "text": [
      "              precision    recall  f1-score   support\n",
      "\n",
      "           0       0.86      1.00      0.93        50\n",
      "           1       1.00      0.11      0.20         9\n",
      "\n",
      "    accuracy                           0.86        59\n",
      "   macro avg       0.93      0.56      0.56        59\n",
      "weighted avg       0.88      0.86      0.82        59\n",
      "\n"
     ]
    }
   ],
   "source": [
    "print(classification_report(y_test,pred_knn))"
   ]
  },
  {
   "cell_type": "code",
   "execution_count": 35,
   "id": "46b936d8",
   "metadata": {},
   "outputs": [
    {
     "name": "stdout",
     "output_type": "stream",
     "text": [
      "0.864406779661017\n"
     ]
    }
   ],
   "source": [
    "#accuracy score\n",
    "from sklearn.metrics import accuracy_score\n",
    "knn_acc = accuracy_score(y_test,pred_knn)\n",
    "print(knn_acc)"
   ]
  },
  {
   "cell_type": "markdown",
   "id": "ad2927b2",
   "metadata": {},
   "source": [
    "## Auc Score for KNN"
   ]
  },
  {
   "cell_type": "code",
   "execution_count": 36,
   "id": "e7e1903a",
   "metadata": {},
   "outputs": [
    {
     "name": "stdout",
     "output_type": "stream",
     "text": [
      "the AUC score for  KNN classifier is  0.5555555555555556\n"
     ]
    }
   ],
   "source": [
    "knn_roc_score = roc_auc_score(y_test,pred_knn)\n",
    "print(\"the AUC score for  KNN classifier is \", knn_roc_score)\n",
    "fpr , tpr, thresold = roc_curve(y_test,pred_knn)"
   ]
  },
  {
   "cell_type": "code",
   "execution_count": 37,
   "id": "f1d1ba13",
   "metadata": {},
   "outputs": [
    {
     "data": {
      "text/plain": [
       "Text(0, 0.5, 'False Positive Rate')"
      ]
     },
     "execution_count": 37,
     "metadata": {},
     "output_type": "execute_result"
    },
    {
     "data": {
      "image/png": "[encoded data removed]",
      "text/plain": [
       "<Figure size 640x480 with 1 Axes>"
      ]
     },
     "metadata": {},
     "output_type": "display_data"
    }
   ],
   "source": [
    "plt.plot([0,1],[0,1],'k--')\n",
    "plt.plot(fpr,tpr)\n",
    "plt.xlabel('True Positive Rate')\n",
    "plt.ylabel('False Positive Rate')"
   ]
  },
  {
   "cell_type": "code",
   "execution_count": null,
   "id": "f36108da",
   "metadata": {},
   "outputs": [],
   "source": []
  },
  {
   "cell_type": "markdown",
   "id": "e3371eae",
   "metadata": {},
   "source": [
    "### 3.4 Choose one: SVM or Random Forest to classify your data. Print/report your confusion matrix, classification report and AUC"
   ]
  },
  {
   "cell_type": "code",
   "execution_count": 38,
   "id": "e7b82419",
   "metadata": {},
   "outputs": [],
   "source": [
    "#your code\n",
    "from sklearn.svm import SVC\n",
    "\n",
    "svc = SVC()\n",
    "\n",
    "#fiting model\n",
    "svc.fit(X_train,y_train)\n",
    "\n",
    "\n",
    "\n",
    "#predicing\n",
    "pred_svc= svc.predict(X_test)"
   ]
  },
  {
   "cell_type": "code",
   "execution_count": 39,
   "id": "4ebafe84",
   "metadata": {},
   "outputs": [
    {
     "data": {
      "text/plain": [
       "Text(50.722222222222214, 0.5, 'actual')"
      ]
     },
     "execution_count": 39,
     "metadata": {},
     "output_type": "execute_result"
    },
    {
     "data": {
      "image/png": "[encoded data removed]",
      "text/plain": [
       "<Figure size 640x480 with 2 Axes>"
      ]
     },
     "metadata": {},
     "output_type": "display_data"
    }
   ],
   "source": [
    "# confusion matrix\n",
    "cm = confusion_matrix(y_test,pred_svc)\n",
    "sns.heatmap(cm,annot=True)\n",
    "plt.title('predicted')\n",
    "plt.ylabel('actual')"
   ]
  },
  {
   "cell_type": "code",
   "execution_count": 40,
   "id": "1fe1e56b",
   "metadata": {},
   "outputs": [
    {
     "name": "stdout",
     "output_type": "stream",
     "text": [
      "              precision    recall  f1-score   support\n",
      "\n",
      "           0       0.85      1.00      0.92        50\n",
      "           1       0.00      0.00      0.00         9\n",
      "\n",
      "    accuracy                           0.85        59\n",
      "   macro avg       0.42      0.50      0.46        59\n",
      "weighted avg       0.72      0.85      0.78        59\n",
      "\n"
     ]
    },
    {
     "name": "stderr",
     "output_type": "stream",
     "text": [
      "C:\\ProgramData\\anaconda3\\Lib\\site-packages\\sklearn\\metrics\\_classification.py:1469: UndefinedMetricWarning: Precision and F-score are ill-defined and being set to 0.0 in labels with no predicted samples. Use `zero_division` parameter to control this behavior.\n",
      "  _warn_prf(average, modifier, msg_start, len(result))\n",
      "C:\\ProgramData\\anaconda3\\Lib\\site-packages\\sklearn\\metrics\\_classification.py:1469: UndefinedMetricWarning: Precision and F-score are ill-defined and being set to 0.0 in labels with no predicted samples. Use `zero_division` parameter to control this behavior.\n",
      "  _warn_prf(average, modifier, msg_start, len(result))\n",
      "C:\\ProgramData\\anaconda3\\Lib\\site-packages\\sklearn\\metrics\\_classification.py:1469: UndefinedMetricWarning: Precision and F-score are ill-defined and being set to 0.0 in labels with no predicted samples. Use `zero_division` parameter to control this behavior.\n",
      "  _warn_prf(average, modifier, msg_start, len(result))\n"
     ]
    }
   ],
   "source": [
    "print(classification_report(y_test,pred_svc))"
   ]
  },
  {
   "cell_type": "code",
   "execution_count": 41,
   "id": "66521e9c",
   "metadata": {},
   "outputs": [
    {
     "name": "stdout",
     "output_type": "stream",
     "text": [
      "0.847457627118644\n"
     ]
    }
   ],
   "source": [
    "#accuracy score\n",
    "from sklearn.metrics import accuracy_score\n",
    "svc_acc = accuracy_score(y_test,pred_svc)\n",
    "print(svc_acc)"
   ]
  },
  {
   "cell_type": "markdown",
   "id": "d6edcf4d",
   "metadata": {},
   "source": [
    "## AUC score  for SVM"
   ]
  },
  {
   "cell_type": "code",
   "execution_count": 42,
   "id": "aa9d95bd",
   "metadata": {},
   "outputs": [
    {
     "name": "stdout",
     "output_type": "stream",
     "text": [
      "the AUC score for  SVC  is  0.5\n"
     ]
    }
   ],
   "source": [
    "svc_roc_score = roc_auc_score(y_test,pred_svc)\n",
    "print(\"the AUC score for  SVC  is \", svc_roc_score)"
   ]
  },
  {
   "cell_type": "code",
   "execution_count": 43,
   "id": "be849738",
   "metadata": {},
   "outputs": [
    {
     "data": {
      "text/plain": [
       "Text(0, 0.5, 'False Positive Rate')"
      ]
     },
     "execution_count": 43,
     "metadata": {},
     "output_type": "execute_result"
    },
    {
     "data": {
      "image/png": "[encoded data removed]",
      "text/plain": [
       "<Figure size 640x480 with 1 Axes>"
      ]
     },
     "metadata": {},
     "output_type": "display_data"
    }
   ],
   "source": [
    "fpr , tpr, thresold = roc_curve(y_test,pred_svc)\n",
    "plt.plot([0,1],[0,1],'k--')\n",
    "plt.plot(fpr,tpr)\n",
    "plt.xlabel('True Positive Rate')\n",
    "plt.ylabel('False Positive Rate')"
   ]
  },
  {
   "cell_type": "markdown",
   "id": "66c75879",
   "metadata": {},
   "source": [
    "### 3.5 Compare your results and comment on your findings. Which one(s) did the best job? What could have been the problem with the ones that did not work? etc."
   ]
  },
  {
   "cell_type": "code",
   "execution_count": 44,
   "id": "44011e38",
   "metadata": {},
   "outputs": [
    {
     "data": {
      "text/html": [
       "<div>\n",
       "<style scoped>\n",
       "    .dataframe tbody tr th:only-of-type {\n",
       "        vertical-align: middle;\n",
       "    }\n",
       "\n",
       "    .dataframe tbody tr th {\n",
       "        vertical-align: top;\n",
       "    }\n",
       "\n",
       "    .dataframe thead th {\n",
       "        text-align: right;\n",
       "    }\n",
       "</style>\n",
       "<table border=\"1\" class=\"dataframe\">\n",
       "  <thead>\n",
       "    <tr style=\"text-align: right;\">\n",
       "      <th></th>\n",
       "      <th>MODELS</th>\n",
       "      <th>TEST ACCURACY</th>\n",
       "      <th>AUC score</th>\n",
       "    </tr>\n",
       "  </thead>\n",
       "  <tbody>\n",
       "    <tr>\n",
       "      <th>0</th>\n",
       "      <td>Logistic regression</td>\n",
       "      <td>1.000000</td>\n",
       "      <td>1.000000</td>\n",
       "    </tr>\n",
       "    <tr>\n",
       "      <th>1</th>\n",
       "      <td>navie bayes</td>\n",
       "      <td>1.000000</td>\n",
       "      <td>1.000000</td>\n",
       "    </tr>\n",
       "    <tr>\n",
       "      <th>2</th>\n",
       "      <td>KNN</td>\n",
       "      <td>0.864407</td>\n",
       "      <td>0.555556</td>\n",
       "    </tr>\n",
       "    <tr>\n",
       "      <th>3</th>\n",
       "      <td>SVM</td>\n",
       "      <td>0.847458</td>\n",
       "      <td>0.500000</td>\n",
       "    </tr>\n",
       "  </tbody>\n",
       "</table>\n",
       "</div>"
      ],
      "text/plain": [
       "                MODELS  TEST ACCURACY  AUC score\n",
       "0  Logistic regression       1.000000   1.000000\n",
       "1          navie bayes       1.000000   1.000000\n",
       "2                  KNN       0.864407   0.555556\n",
       "3                  SVM       0.847458   0.500000"
      ]
     },
     "execution_count": 44,
     "metadata": {},
     "output_type": "execute_result"
    }
   ],
   "source": [
    "#your answer \n",
    "\n",
    "models = ['Logistic regression','navie bayes','KNN' ,'SVM']\n",
    "models_accurary = [log_acc,nb_acc,knn_acc,svc_acc]\n",
    "models_auc = [log_reg_roc_score,nb_roc_score,knn_roc_score,svc_roc_score]\n",
    "comp = pd.DataFrame({'MODELS':models,'TEST ACCURACY':models_accurary,'AUC score':models_auc})\n",
    "comp\n"
   ]
  },
  {
   "cell_type": "markdown",
   "id": "f29b0688",
   "metadata": {},
   "source": [
    "### from above it was clear that the Model Logistic Regression and Navie Bayes have performed well in both ACCURACY and AUC score,\n",
    "### here both the perormance of models  Logistic regression and navie bayes  is poor in accuracy and AUC score, but the AUC score was poor of KNN AND SVM which stands at 0.55 for both KNN SVM"
   ]
  },
  {
   "cell_type": "code",
   "execution_count": null,
   "id": "435e8ca4",
   "metadata": {},
   "outputs": [],
   "source": []
  },
  {
   "cell_type": "code",
   "execution_count": null,
   "id": "2e95824d",
   "metadata": {},
   "outputs": [],
   "source": []
  },
  {
   "cell_type": "markdown",
   "id": "9e836830-b3dd-40fe-b3f1-367528757c8a",
   "metadata": {},
   "source": [
    "## 4. Bonus question\n",
    "**Try to fix the imbalanced nature of the data with a tool from the lecture. Run one of the classification methods (preferably one that \"failed\" before) and see if you get better results.**"
   ]
  },
  {
   "cell_type": "markdown",
   "id": "95edf40d",
   "metadata": {},
   "source": [
    "### To Implement the SMOTE technique the following necessary packages has to be installed"
   ]
  },
  {
   "cell_type": "code",
   "execution_count": null,
   "id": "be0fb81b",
   "metadata": {},
   "outputs": [],
   "source": [
    "#your code\n",
    "pip install -U imbalanced-learn"
   ]
  },
  {
   "cell_type": "code",
   "execution_count": null,
   "id": "48036a1f",
   "metadata": {},
   "outputs": [],
   "source": [
    "pip install imbalanced-learn"
   ]
  },
  {
   "cell_type": "markdown",
   "id": "52270909",
   "metadata": {},
   "source": [
    "### we took the random_state = 746  while applying SMOTE"
   ]
  },
  {
   "cell_type": "code",
   "execution_count": 47,
   "id": "b1eb49f9",
   "metadata": {},
   "outputs": [
    {
     "name": "stdout",
     "output_type": "stream",
     "text": [
      "{'gas': 0, 'diesel': 1}\n",
      "instances per label in training set\n",
      " 0    175\n",
      "1     20\n",
      "Name: fuel_type, dtype: int64\n"
     ]
    }
   ],
   "source": [
    "labels_dict = {'gas':0,'diesel':1}\n",
    "print(labels_dict)\n",
    "\n",
    "print(\"instances per label in training set\\n\", y.value_counts())"
   ]
  },
  {
   "cell_type": "markdown",
   "id": "c44ef20c",
   "metadata": {},
   "source": [
    "#### Before applying SMOTE Shapes of X and Y"
   ]
  },
  {
   "cell_type": "code",
   "execution_count": 48,
   "id": "0d291ef8",
   "metadata": {},
   "outputs": [
    {
     "name": "stdout",
     "output_type": "stream",
     "text": [
      " before  smote over sampling the shape of X is \n",
      "(195, 14)\n",
      " before  smote over sampling the shape of y is \n",
      "(195,)\n"
     ]
    }
   ],
   "source": [
    "print(\" before  smote over sampling the shape of X is \")\n",
    "print(X.shape)\n",
    "print(\" before  smote over sampling the shape of y is \")\n",
    "print(y.shape)"
   ]
  },
  {
   "cell_type": "code",
   "execution_count": 49,
   "id": "fdf64977",
   "metadata": {},
   "outputs": [],
   "source": [
    "\n",
    "\n",
    "## training data sampling\n",
    "from imblearn.over_sampling import SMOTE\n",
    "from imblearn.over_sampling import RandomOverSampler\n",
    "from imblearn.pipeline import Pipeline\n",
    "from collections import Counter\n",
    "\n",
    "smote = SMOTE(sampling_strategy='not majority', n_jobs=3,random_state=746)\n",
    "\n",
    "X_resample, y_resample = smote.fit_resample(X, y)\n"
   ]
  },
  {
   "cell_type": "code",
   "execution_count": 50,
   "id": "61d878ad",
   "metadata": {},
   "outputs": [
    {
     "name": "stdout",
     "output_type": "stream",
     "text": [
      " after applying SMOTE the result y is  \n",
      "Counter({0: 175, 1: 175})\n"
     ]
    }
   ],
   "source": [
    "print(\" after applying SMOTE the result y is  \")\n",
    "counter = Counter(y_resample)\n",
    "print(counter)"
   ]
  },
  {
   "cell_type": "code",
   "execution_count": 51,
   "id": "fafb67de",
   "metadata": {},
   "outputs": [
    {
     "data": {
      "text/html": [
       "<div>\n",
       "<style scoped>\n",
       "    .dataframe tbody tr th:only-of-type {\n",
       "        vertical-align: middle;\n",
       "    }\n",
       "\n",
       "    .dataframe tbody tr th {\n",
       "        vertical-align: top;\n",
       "    }\n",
       "\n",
       "    .dataframe thead th {\n",
       "        text-align: right;\n",
       "    }\n",
       "</style>\n",
       "<table border=\"1\" class=\"dataframe\">\n",
       "  <thead>\n",
       "    <tr style=\"text-align: right;\">\n",
       "      <th></th>\n",
       "      <th>wheel_base</th>\n",
       "      <th>length</th>\n",
       "      <th>width</th>\n",
       "      <th>heights</th>\n",
       "      <th>curb_weight</th>\n",
       "      <th>engine_size</th>\n",
       "      <th>bore</th>\n",
       "      <th>stroke</th>\n",
       "      <th>comprassion</th>\n",
       "      <th>horse_power</th>\n",
       "      <th>peak_rpm</th>\n",
       "      <th>city_mpg</th>\n",
       "      <th>highway_mpg</th>\n",
       "      <th>price</th>\n",
       "    </tr>\n",
       "  </thead>\n",
       "  <tbody>\n",
       "    <tr>\n",
       "      <th>0</th>\n",
       "      <td>88.600000</td>\n",
       "      <td>168.800000</td>\n",
       "      <td>64.100000</td>\n",
       "      <td>48.800000</td>\n",
       "      <td>2548</td>\n",
       "      <td>130</td>\n",
       "      <td>3.47</td>\n",
       "      <td>2.68</td>\n",
       "      <td>9.000000</td>\n",
       "      <td>111.0</td>\n",
       "      <td>5000.0</td>\n",
       "      <td>21</td>\n",
       "      <td>27</td>\n",
       "      <td>13495</td>\n",
       "    </tr>\n",
       "    <tr>\n",
       "      <th>1</th>\n",
       "      <td>88.600000</td>\n",
       "      <td>168.800000</td>\n",
       "      <td>64.100000</td>\n",
       "      <td>48.800000</td>\n",
       "      <td>2548</td>\n",
       "      <td>130</td>\n",
       "      <td>3.47</td>\n",
       "      <td>2.68</td>\n",
       "      <td>9.000000</td>\n",
       "      <td>111.0</td>\n",
       "      <td>5000.0</td>\n",
       "      <td>21</td>\n",
       "      <td>27</td>\n",
       "      <td>16500</td>\n",
       "    </tr>\n",
       "    <tr>\n",
       "      <th>2</th>\n",
       "      <td>94.500000</td>\n",
       "      <td>171.200000</td>\n",
       "      <td>65.500000</td>\n",
       "      <td>52.400000</td>\n",
       "      <td>2823</td>\n",
       "      <td>152</td>\n",
       "      <td>2.68</td>\n",
       "      <td>3.47</td>\n",
       "      <td>9.000000</td>\n",
       "      <td>154.0</td>\n",
       "      <td>5000.0</td>\n",
       "      <td>19</td>\n",
       "      <td>26</td>\n",
       "      <td>16500</td>\n",
       "    </tr>\n",
       "    <tr>\n",
       "      <th>3</th>\n",
       "      <td>99.800000</td>\n",
       "      <td>176.600000</td>\n",
       "      <td>66.200000</td>\n",
       "      <td>54.300000</td>\n",
       "      <td>2337</td>\n",
       "      <td>109</td>\n",
       "      <td>3.19</td>\n",
       "      <td>3.4</td>\n",
       "      <td>10.000000</td>\n",
       "      <td>102.0</td>\n",
       "      <td>5500.0</td>\n",
       "      <td>24</td>\n",
       "      <td>30</td>\n",
       "      <td>13950</td>\n",
       "    </tr>\n",
       "    <tr>\n",
       "      <th>4</th>\n",
       "      <td>99.400000</td>\n",
       "      <td>176.600000</td>\n",
       "      <td>66.400000</td>\n",
       "      <td>54.300000</td>\n",
       "      <td>2824</td>\n",
       "      <td>136</td>\n",
       "      <td>3.19</td>\n",
       "      <td>3.4</td>\n",
       "      <td>8.000000</td>\n",
       "      <td>115.0</td>\n",
       "      <td>5500.0</td>\n",
       "      <td>18</td>\n",
       "      <td>22</td>\n",
       "      <td>17450</td>\n",
       "    </tr>\n",
       "    <tr>\n",
       "      <th>...</th>\n",
       "      <td>...</td>\n",
       "      <td>...</td>\n",
       "      <td>...</td>\n",
       "      <td>...</td>\n",
       "      <td>...</td>\n",
       "      <td>...</td>\n",
       "      <td>...</td>\n",
       "      <td>...</td>\n",
       "      <td>...</td>\n",
       "      <td>...</td>\n",
       "      <td>...</td>\n",
       "      <td>...</td>\n",
       "      <td>...</td>\n",
       "      <td>...</td>\n",
       "    </tr>\n",
       "    <tr>\n",
       "      <th>345</th>\n",
       "      <td>109.498370</td>\n",
       "      <td>192.528950</td>\n",
       "      <td>67.888953</td>\n",
       "      <td>57.473488</td>\n",
       "      <td>3140</td>\n",
       "      <td>133</td>\n",
       "      <td>3.464918</td>\n",
       "      <td>3.479116</td>\n",
       "      <td>21.681396</td>\n",
       "      <td>85.801158</td>\n",
       "      <td>4269.244247</td>\n",
       "      <td>27</td>\n",
       "      <td>29</td>\n",
       "      <td>13854</td>\n",
       "    </tr>\n",
       "    <tr>\n",
       "      <th>346</th>\n",
       "      <td>94.624783</td>\n",
       "      <td>165.403985</td>\n",
       "      <td>63.862391</td>\n",
       "      <td>54.344022</td>\n",
       "      <td>2043</td>\n",
       "      <td>103</td>\n",
       "      <td>3.019116</td>\n",
       "      <td>3.457522</td>\n",
       "      <td>21.962391</td>\n",
       "      <td>55.103985</td>\n",
       "      <td>4768.804352</td>\n",
       "      <td>43</td>\n",
       "      <td>48</td>\n",
       "      <td>7182</td>\n",
       "    </tr>\n",
       "    <tr>\n",
       "      <th>347</th>\n",
       "      <td>114.200000</td>\n",
       "      <td>198.900000</td>\n",
       "      <td>68.400000</td>\n",
       "      <td>58.700000</td>\n",
       "      <td>3471</td>\n",
       "      <td>152</td>\n",
       "      <td>3.7</td>\n",
       "      <td>3.52</td>\n",
       "      <td>21.000000</td>\n",
       "      <td>95.0</td>\n",
       "      <td>4150.0</td>\n",
       "      <td>25</td>\n",
       "      <td>25</td>\n",
       "      <td>16286</td>\n",
       "    </tr>\n",
       "    <tr>\n",
       "      <th>348</th>\n",
       "      <td>109.174635</td>\n",
       "      <td>188.326802</td>\n",
       "      <td>69.620287</td>\n",
       "      <td>56.160144</td>\n",
       "      <td>3383</td>\n",
       "      <td>175</td>\n",
       "      <td>3.555725</td>\n",
       "      <td>3.64</td>\n",
       "      <td>21.580918</td>\n",
       "      <td>114.746347</td>\n",
       "      <td>4325.724551</td>\n",
       "      <td>23</td>\n",
       "      <td>27</td>\n",
       "      <td>24385</td>\n",
       "    </tr>\n",
       "    <tr>\n",
       "      <th>349</th>\n",
       "      <td>97.144772</td>\n",
       "      <td>171.176105</td>\n",
       "      <td>65.393281</td>\n",
       "      <td>55.418649</td>\n",
       "      <td>2265</td>\n",
       "      <td>98</td>\n",
       "      <td>3.035225</td>\n",
       "      <td>3.395149</td>\n",
       "      <td>22.951491</td>\n",
       "      <td>52.38807</td>\n",
       "      <td>4770.894733</td>\n",
       "      <td>37</td>\n",
       "      <td>46</td>\n",
       "      <td>7974</td>\n",
       "    </tr>\n",
       "  </tbody>\n",
       "</table>\n",
       "<p>350 rows × 14 columns</p>\n",
       "</div>"
      ],
      "text/plain": [
       "     wheel_base      length      width    heights  curb_weight  engine_size  \\\n",
       "0     88.600000  168.800000  64.100000  48.800000         2548          130   \n",
       "1     88.600000  168.800000  64.100000  48.800000         2548          130   \n",
       "2     94.500000  171.200000  65.500000  52.400000         2823          152   \n",
       "3     99.800000  176.600000  66.200000  54.300000         2337          109   \n",
       "4     99.400000  176.600000  66.400000  54.300000         2824          136   \n",
       "..          ...         ...        ...        ...          ...          ...   \n",
       "345  109.498370  192.528950  67.888953  57.473488         3140          133   \n",
       "346   94.624783  165.403985  63.862391  54.344022         2043          103   \n",
       "347  114.200000  198.900000  68.400000  58.700000         3471          152   \n",
       "348  109.174635  188.326802  69.620287  56.160144         3383          175   \n",
       "349   97.144772  171.176105  65.393281  55.418649         2265           98   \n",
       "\n",
       "         bore    stroke  comprassion horse_power     peak_rpm  city_mpg  \\\n",
       "0        3.47      2.68     9.000000       111.0       5000.0        21   \n",
       "1        3.47      2.68     9.000000       111.0       5000.0        21   \n",
       "2        2.68      3.47     9.000000       154.0       5000.0        19   \n",
       "3        3.19       3.4    10.000000       102.0       5500.0        24   \n",
       "4        3.19       3.4     8.000000       115.0       5500.0        18   \n",
       "..        ...       ...          ...         ...          ...       ...   \n",
       "345  3.464918  3.479116    21.681396   85.801158  4269.244247        27   \n",
       "346  3.019116  3.457522    21.962391   55.103985  4768.804352        43   \n",
       "347       3.7      3.52    21.000000        95.0       4150.0        25   \n",
       "348  3.555725      3.64    21.580918  114.746347  4325.724551        23   \n",
       "349  3.035225  3.395149    22.951491    52.38807  4770.894733        37   \n",
       "\n",
       "     highway_mpg  price  \n",
       "0             27  13495  \n",
       "1             27  16500  \n",
       "2             26  16500  \n",
       "3             30  13950  \n",
       "4             22  17450  \n",
       "..           ...    ...  \n",
       "345           29  13854  \n",
       "346           48   7182  \n",
       "347           25  16286  \n",
       "348           27  24385  \n",
       "349           46   7974  \n",
       "\n",
       "[350 rows x 14 columns]"
      ]
     },
     "execution_count": 51,
     "metadata": {},
     "output_type": "execute_result"
    }
   ],
   "source": [
    "X_resample"
   ]
  },
  {
   "cell_type": "code",
   "execution_count": 52,
   "id": "bbe9f104",
   "metadata": {},
   "outputs": [
    {
     "data": {
      "text/plain": [
       "0    175\n",
       "1    175\n",
       "Name: fuel_type, dtype: int64"
      ]
     },
     "execution_count": 52,
     "metadata": {},
     "output_type": "execute_result"
    }
   ],
   "source": [
    "y_resample.value_counts()"
   ]
  },
  {
   "cell_type": "markdown",
   "id": "1f39b60e",
   "metadata": {},
   "source": [
    "### Again Splitting  your resampled data into training and testing set. Use test_size=0.3, random_state=746 "
   ]
  },
  {
   "cell_type": "code",
   "execution_count": 53,
   "id": "3ec4098f",
   "metadata": {},
   "outputs": [],
   "source": [
    "from sklearn.model_selection import train_test_split\n",
    "X_train1,X_test1,y_train1,y_test1 = train_test_split(X_resample,y_resample,test_size=0.3,random_state=746)"
   ]
  },
  {
   "cell_type": "markdown",
   "id": "b5fef63f",
   "metadata": {},
   "source": [
    "## we have seen clearly the above models , of which one that had least accuaracy was \n",
    "### Support Vector Classifier and KNearestNeighbour Classifiers, hence we can once again implement those algorithmsn with our SMOTE oversample data"
   ]
  },
  {
   "cell_type": "code",
   "execution_count": null,
   "id": "f7e93ef3",
   "metadata": {},
   "outputs": [],
   "source": []
  },
  {
   "cell_type": "markdown",
   "id": "90ed02f4",
   "metadata": {},
   "source": [
    "## SVM  applied on oversampled data using SMOTE"
   ]
  },
  {
   "cell_type": "code",
   "execution_count": 54,
   "id": "3115529c",
   "metadata": {},
   "outputs": [],
   "source": [
    "#your code\n",
    "\n",
    "#your code\n",
    "from sklearn.svm import SVC\n",
    "\n",
    "svc = SVC()\n",
    "\n",
    "#fiting model\n",
    "svc.fit(X_train1,y_train1)\n",
    "\n",
    "\n",
    "\n",
    "#predicing\n",
    "pred_svc1= svc.predict(X_test1)\n"
   ]
  },
  {
   "cell_type": "code",
   "execution_count": 55,
   "id": "f90402e4",
   "metadata": {},
   "outputs": [
    {
     "data": {
      "text/plain": [
       "Text(33.0, 0.5, 'actual')"
      ]
     },
     "execution_count": 55,
     "metadata": {},
     "output_type": "execute_result"
    },
    {
     "data": {
      "image/png": "[encoded data removed]",
      "text/plain": [
       "<Figure size 432x288 with 2 Axes>"
      ]
     },
     "metadata": {
      "needs_background": "light"
     },
     "output_type": "display_data"
    }
   ],
   "source": [
    "# confusion matrix\n",
    "cm = confusion_matrix(y_test1,pred_svc1)\n",
    "sns.heatmap(cm,annot=True)\n",
    "plt.title('predicted')\n",
    "plt.ylabel('actual')\n"
   ]
  },
  {
   "cell_type": "code",
   "execution_count": 56,
   "id": "0ef9f998",
   "metadata": {},
   "outputs": [
    {
     "name": "stdout",
     "output_type": "stream",
     "text": [
      "              precision    recall  f1-score   support\n",
      "\n",
      "           0       0.68      0.81      0.74        54\n",
      "           1       0.75      0.59      0.66        51\n",
      "\n",
      "    accuracy                           0.70       105\n",
      "   macro avg       0.71      0.70      0.70       105\n",
      "weighted avg       0.71      0.70      0.70       105\n",
      "\n"
     ]
    }
   ],
   "source": [
    "print(classification_report(y_test1,pred_svc1))"
   ]
  },
  {
   "cell_type": "code",
   "execution_count": 57,
   "id": "b0f3dbfe",
   "metadata": {},
   "outputs": [
    {
     "name": "stdout",
     "output_type": "stream",
     "text": [
      "0.7047619047619048\n"
     ]
    }
   ],
   "source": [
    "#accuracy score\n",
    "from sklearn.metrics import accuracy_score\n",
    "svc_acc_smote = accuracy_score(y_test1,pred_svc1)\n",
    "print(svc_acc_smote)"
   ]
  },
  {
   "cell_type": "markdown",
   "id": "e21238bd",
   "metadata": {},
   "source": [
    "### AUC score "
   ]
  },
  {
   "cell_type": "code",
   "execution_count": 58,
   "id": "62a8d052",
   "metadata": {},
   "outputs": [
    {
     "name": "stdout",
     "output_type": "stream",
     "text": [
      "the AUC score for  svc  is  0.701525054466231\n"
     ]
    }
   ],
   "source": [
    "svc_roc_score_smote = roc_auc_score(y_test1,pred_svc1)\n",
    "print(\"the AUC score for  svc  is \", svc_roc_score_smote)"
   ]
  },
  {
   "cell_type": "code",
   "execution_count": 59,
   "id": "9e323cce",
   "metadata": {},
   "outputs": [
    {
     "data": {
      "text/plain": [
       "Text(0, 0.5, 'False Positive Rate')"
      ]
     },
     "execution_count": 59,
     "metadata": {},
     "output_type": "execute_result"
    },
    {
     "data": {
      "image/png": "[encoded data removed]",
      "text/plain": [
       "<Figure size 432x288 with 1 Axes>"
      ]
     },
     "metadata": {
      "needs_background": "light"
     },
     "output_type": "display_data"
    }
   ],
   "source": [
    "fpr,tpr,thresold = roc_curve(y_test1,pred_svc1)\n",
    "plt.plot([0,1],[0,1],'k--')\n",
    "plt.plot(fpr,tpr)\n",
    "plt.xlabel('True Positive Rate')\n",
    "plt.ylabel('False Positive Rate')"
   ]
  },
  {
   "cell_type": "code",
   "execution_count": null,
   "id": "911037e6",
   "metadata": {},
   "outputs": [],
   "source": []
  },
  {
   "cell_type": "code",
   "execution_count": null,
   "id": "080d93f6",
   "metadata": {},
   "outputs": [],
   "source": []
  },
  {
   "cell_type": "code",
   "execution_count": null,
   "id": "56947e77",
   "metadata": {},
   "outputs": [],
   "source": []
  },
  {
   "cell_type": "markdown",
   "id": "3ab5672c",
   "metadata": {},
   "source": [
    "## KNN  applied on OVERSAMPLED data using SMOTE"
   ]
  },
  {
   "cell_type": "code",
   "execution_count": 60,
   "id": "e8c889fa",
   "metadata": {},
   "outputs": [],
   "source": [
    "#your code\n",
    "\n",
    "from sklearn.neighbors import KNeighborsClassifier\n",
    "\n",
    "knn = KNeighborsClassifier()\n",
    "\n",
    "#fiting model\n",
    "knn.fit(X_train1,y_train1)\n",
    "\n",
    "\n",
    "\n",
    "#predicing\n",
    "pred_knn1 = knn.predict(X_test1)\n"
   ]
  },
  {
   "cell_type": "code",
   "execution_count": 61,
   "id": "8eb0b35a",
   "metadata": {},
   "outputs": [
    {
     "data": {
      "text/plain": [
       "Text(33.0, 0.5, 'actual')"
      ]
     },
     "execution_count": 61,
     "metadata": {},
     "output_type": "execute_result"
    },
    {
     "data": {
      "image/png": "[encoded data removed]",
      "text/plain": [
       "<Figure size 432x288 with 2 Axes>"
      ]
     },
     "metadata": {
      "needs_background": "light"
     },
     "output_type": "display_data"
    }
   ],
   "source": [
    "# confusion matrix\n",
    "cm = confusion_matrix(y_test1,pred_knn1)\n",
    "sns.heatmap(cm,annot=True)\n",
    "plt.title('predicted')\n",
    "plt.ylabel('actual')"
   ]
  },
  {
   "cell_type": "code",
   "execution_count": 62,
   "id": "314ac27b",
   "metadata": {},
   "outputs": [
    {
     "name": "stdout",
     "output_type": "stream",
     "text": [
      "              precision    recall  f1-score   support\n",
      "\n",
      "           0       0.90      0.85      0.88        54\n",
      "           1       0.85      0.90      0.88        51\n",
      "\n",
      "    accuracy                           0.88       105\n",
      "   macro avg       0.88      0.88      0.88       105\n",
      "weighted avg       0.88      0.88      0.88       105\n",
      "\n"
     ]
    }
   ],
   "source": [
    "print(classification_report(y_test1,pred_knn1))"
   ]
  },
  {
   "cell_type": "code",
   "execution_count": 63,
   "id": "3aa3a102",
   "metadata": {},
   "outputs": [
    {
     "name": "stdout",
     "output_type": "stream",
     "text": [
      "0.8761904761904762\n"
     ]
    }
   ],
   "source": [
    "#accuracy score\n",
    "from sklearn.metrics import accuracy_score\n",
    "knn_acc_smote = accuracy_score(y_test1,pred_knn1)\n",
    "print(knn_acc_smote)"
   ]
  },
  {
   "cell_type": "markdown",
   "id": "bfe4ba70",
   "metadata": {},
   "source": [
    "### AUC Curve"
   ]
  },
  {
   "cell_type": "code",
   "execution_count": 64,
   "id": "26134eb1",
   "metadata": {},
   "outputs": [
    {
     "name": "stdout",
     "output_type": "stream",
     "text": [
      "the AUC score for  KNN after SMOTE is  0.8769063180827886\n"
     ]
    }
   ],
   "source": [
    "knn_roc_score_smote = roc_auc_score(y_test1,pred_knn1)\n",
    "print(\"the AUC score for  KNN after SMOTE is \", knn_roc_score_smote)"
   ]
  },
  {
   "cell_type": "code",
   "execution_count": 65,
   "id": "23565c84",
   "metadata": {},
   "outputs": [
    {
     "data": {
      "text/plain": [
       "Text(0, 0.5, 'False Positive Rate')"
      ]
     },
     "execution_count": 65,
     "metadata": {},
     "output_type": "execute_result"
    },
    {
     "data": {
      "image/png": "[encoded data removed]",
      "text/plain": [
       "<Figure size 432x288 with 1 Axes>"
      ]
     },
     "metadata": {
      "needs_background": "light"
     },
     "output_type": "display_data"
    }
   ],
   "source": [
    "fpr,tpr,thresold = roc_curve(y_test1,pred_knn1)\n",
    "plt.plot([0,1],[0,1],'k--')\n",
    "plt.plot(fpr,tpr)\n",
    "plt.xlabel('True Positive Rate')\n",
    "plt.ylabel('False Positive Rate')"
   ]
  },
  {
   "cell_type": "markdown",
   "id": "1d6c0829",
   "metadata": {},
   "source": [
    "### Comparision of Performance of Models KNN(KNearestneighbors) and SVC(Support vector Classifier) before and after applying SMOTE "
   ]
  },
  {
   "cell_type": "code",
   "execution_count": 66,
   "id": "1ee4b5d1",
   "metadata": {},
   "outputs": [
    {
     "data": {
      "text/html": [
       "<div>\n",
       "<style scoped>\n",
       "    .dataframe tbody tr th:only-of-type {\n",
       "        vertical-align: middle;\n",
       "    }\n",
       "\n",
       "    .dataframe tbody tr th {\n",
       "        vertical-align: top;\n",
       "    }\n",
       "\n",
       "    .dataframe thead th {\n",
       "        text-align: right;\n",
       "    }\n",
       "</style>\n",
       "<table border=\"1\" class=\"dataframe\">\n",
       "  <thead>\n",
       "    <tr style=\"text-align: right;\">\n",
       "      <th></th>\n",
       "      <th>MODELS</th>\n",
       "      <th>TEST ACCURACY</th>\n",
       "      <th>AUC score</th>\n",
       "    </tr>\n",
       "  </thead>\n",
       "  <tbody>\n",
       "    <tr>\n",
       "      <th>0</th>\n",
       "      <td>KNN</td>\n",
       "      <td>0.864407</td>\n",
       "      <td>0.555556</td>\n",
       "    </tr>\n",
       "    <tr>\n",
       "      <th>1</th>\n",
       "      <td>KNN SMOTE APPLIED</td>\n",
       "      <td>0.876190</td>\n",
       "      <td>0.876906</td>\n",
       "    </tr>\n",
       "    <tr>\n",
       "      <th>2</th>\n",
       "      <td>SVC</td>\n",
       "      <td>0.847458</td>\n",
       "      <td>0.500000</td>\n",
       "    </tr>\n",
       "    <tr>\n",
       "      <th>3</th>\n",
       "      <td>SVC SMOTE APPLIED</td>\n",
       "      <td>0.704762</td>\n",
       "      <td>0.701525</td>\n",
       "    </tr>\n",
       "  </tbody>\n",
       "</table>\n",
       "</div>"
      ],
      "text/plain": [
       "              MODELS  TEST ACCURACY  AUC score\n",
       "0                KNN       0.864407   0.555556\n",
       "1  KNN SMOTE APPLIED       0.876190   0.876906\n",
       "2                SVC       0.847458   0.500000\n",
       "3  SVC SMOTE APPLIED       0.704762   0.701525"
      ]
     },
     "execution_count": 66,
     "metadata": {},
     "output_type": "execute_result"
    }
   ],
   "source": [
    "models1 = ['KNN' ,'KNN SMOTE APPLIED' ,'SVC' , 'SVC SMOTE APPLIED']\n",
    "models_accurary1 = [knn_acc,knn_acc_smote,svc_acc,svc_acc_smote ]\n",
    "models_auc1 = [knn_roc_score,knn_roc_score_smote,svc_roc_score,svc_roc_score_smote]\n",
    "comp1 = pd.DataFrame({'MODELS':models1,'TEST ACCURACY':models_accurary1,'AUC score':models_auc1})\n",
    "comp1"
   ]
  },
  {
   "cell_type": "markdown",
   "id": "1d757a04",
   "metadata": {},
   "source": [
    "### Hence from above table we see clerly that the AUC score has been improved for both KNearestNeighbour classifier and Support Vector Classifier as the AUC score has increased for both KNN and SVC"
   ]
  },
  {
   "cell_type": "code",
   "execution_count": null,
   "id": "a77e8f4f",
   "metadata": {},
   "outputs": [],
   "source": []
  }
 ],
 "metadata": {
  "kernelspec": {
   "display_name": "Python 3 (ipykernel)",
   "language": "python",
   "name": "python3"
  },
  "language_info": {
   "codemirror_mode": {
    "name": "ipython",
    "version": 3
   },
   "file_extension": ".py",
   "mimetype": "text/x-python",
   "name": "python",
   "nbconvert_exporter": "python",
   "pygments_lexer": "ipython3",
   "version": "3.11.4"
  }
 },
 "nbformat": 4,
 "nbformat_minor": 5
}
